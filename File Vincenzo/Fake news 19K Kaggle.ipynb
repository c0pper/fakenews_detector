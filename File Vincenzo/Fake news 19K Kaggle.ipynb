{
 "cells": [
  {
   "cell_type": "code",
   "execution_count": 3,
   "metadata": {},
   "outputs": [],
   "source": [
    "import pandas as pd\n",
    "import matplotlib.pyplot as plt\n",
    "\n",
    "\n",
    "from sklearn.model_selection import train_test_split\n",
    "from sklearn.preprocessing import StandardScaler\n",
    "from sklearn.preprocessing import LabelEncoder\n",
    "\n",
    "from keras.models import Sequential\n",
    "from keras.layers import Dense\n",
    "from keras.initializers import RandomUniform\n"
   ]
  },
  {
   "cell_type": "code",
   "execution_count": 4,
   "metadata": {
    "scrolled": true
   },
   "outputs": [],
   "source": [
    "\n",
    "#FNDF = pd.read_csv(\"FakeNews2016.csv\",names=[\"1\",\"2\",\"3\",\"4\",\"5\",\"6\",\"7\",\"8\",\"9\",\"10\",\"11\",\"12\",\"13\",\"14\",\"15\",\"16\",\"17\",\"18\",\"19\",\"20\",\"21\",\"22\",\"23\",\"24\",\"25\",\"26\",\"27\",\"28\",\"29\",\"30\",\"31\",\"32\",\"33\",\"34\",\"35\",\"36\",\"37\",\"38\",\"39\",\"40\",\"41\",\"42\",\"43\",\"44\",\"45\",\"46\",\"47\",\"48\",\"49\",\"50\",\"51\",\"52\",\"53\",\"54\",\"55\",\"56\",\"57\",\"58\",\"59\",\"60\",\"61\",\"62\",\"63\",\"64\",\"65\",\"66\",\"67\",\"68\",\"69\",\"70\",\"71\",\"72\",\"73\",\"74\",\"75\",\"76\",\"77\",\"78\",\"79\",\"80\",\"81\",\"82\",\"83\",\"84\",\"85\",\"86\",\"87\",\"88\",\"89\",\"90\",\"91\",\"92\",\"93\",\"94\",\"95\",\"96\",\"97\",\"98\",\"99\",\"100\",\"101\",\"102\",\"103\",\"104\",\"105\",\"106\",\"107\",\"108\",\"109\",\"110\",\"111\",\"112\",\"113\",\"114\",\"115\",\"116\",\"117\",\"118\",\"119\",\"120\",\"121\",\"122\",\"123\",\"124\",\"125\",\"126\",\"127\",\"128\",\"129\",\"130\",\"131\",\"132\",\"133\",\"134\",\"135\",\"136\",\"137\",\"138\",\"139\",\"140\",\"141\",\"142\",\"143\",\"144\",\"145\",\"146\",\"147\",\"148\",\"149\",\"150\",\"151\",\"152\",\"153\",\"154\",\"155\",\"156\",\"157\",\"158\",\"159\",\"160\",\"161\",\"162\",\"163\",\"164\",\"165\",\"166\",\"167\",\"168\",\"169\",\"170\",\"171\",\"172\",\"173\",\"174\",\"175\",\"176\",\"177\",\"178\",\"179\",\"180\",\"181\",\"182\",\"183\",\"184\",\"185\",\"186\",\"187\",\"188\",\"189\",\"190\",\"191\",\"192\",\"193\",\"194\",\"195\",\"196\",\"197\",\"198\",\"199\",\"200\",\"201\",\"202\",\"203\",\"204\",\"205\"])\n",
    "FNDF = pd.read_csv(\"FN20K.csv\",names=[\"1\",\"2\",\"3\",\"4\",\"5\",\"6\",\"7\",\"8\",\"9\",\"10\",\"11\",\"12\",\"13\",\"14\",\"15\",\"16\",\"17\",\"18\",\"19\",\"20\",\"21\",\"22\",\"23\",\"24\",\"25\",\"26\",\"27\",\"28\",\"29\",\"30\",\"31\",\"32\",\"33\",\"34\",\"35\",\"36\",\"37\",\"38\",\"39\",\"40\",\"41\",\"42\",\"43\",\"44\",\"45\",\"46\",\"47\",\"48\",\"49\",\"50\",\"51\",\"52\",\"53\",\"54\",\"55\",\"56\",\"57\",\"58\",\"59\",\"60\",\"61\",\"62\",\"63\",\"64\",\"65\",\"66\",\"67\",\"68\",\"69\",\"70\",\"71\",\"72\",\"73\",\"74\",\"75\",\"76\",\"77\",\"78\",\"79\",\"80\",\"81\",\"82\",\"83\",\"84\",\"85\",\"86\",\"87\",\"88\",\"89\",\"90\",\"91\",\"92\",\"93\",\"94\",\"95\",\"96\",\"97\",\"98\",\"99\",\"100\",\"101\",\"102\",\"103\",\"104\",\"105\",\"106\",\"107\",\"108\",\"109\",\"110\",\"111\",\"112\",\"113\",\"114\",\"115\",\"116\",\"117\",\"118\",\"119\",\"120\",\"121\",\"122\",\"123\",\"124\",\"125\",\"126\",\"127\",\"128\",\"129\",\"130\",\"131\",\"132\",\"133\",\"134\",\"135\",\"136\",\"137\",\"138\",\"139\",\"140\",\"141\",\"142\",\"143\",\"144\",\"145\",\"146\",\"147\",\"148\",\"149\",\"150\",\"151\",\"152\",\"153\",\"154\",\"155\",\"156\",\"157\",\"158\",\"159\",\"160\",\"161\",\"162\",\"163\",\"164\",\"165\",\"166\",\"167\",\"168\",\"169\",\"170\",\"171\",\"172\",\"173\",\"174\",\"175\",\"176\",\"177\",\"178\",\"179\",\"180\",\"181\",\"182\",\"183\",\"184\",\"185\",\"186\",\"187\",\"188\",\"189\",\"190\",\"191\",\"192\",\"193\",\"194\",\"195\",\"196\",\"197\",\"198\",\"199\",\"200\",\"201\",\"202\",\"203\",\"204\",\"205\"])"
   ]
  },
  {
   "cell_type": "code",
   "execution_count": 5,
   "metadata": {},
   "outputs": [],
   "source": [
    "#import os\n",
    "#for dirname, _, filenames in os.walk('/kaggle/input'):\n",
    " #   for filename in filenames:\n",
    "  #      print(os.path.join(dirname, filename))"
   ]
  },
  {
   "cell_type": "code",
   "execution_count": 6,
   "metadata": {},
   "outputs": [
    {
     "data": {
      "text/plain": [
       "pandas.core.frame.DataFrame"
      ]
     },
     "execution_count": 6,
     "metadata": {},
     "output_type": "execute_result"
    }
   ],
   "source": [
    "VTDF = pd.read_csv(\"ValidationTest.csv\",names=[\"1\",\"2\",\"3\",\"4\",\"5\",\"6\",\"7\",\"8\",\"9\",\"10\",\"11\",\"12\",\"13\",\"14\",\"15\",\"16\",\"17\",\"18\",\"19\",\"20\",\"21\",\"22\",\"23\",\"24\",\"25\",\"26\",\"27\",\"28\",\"29\",\"30\",\"31\",\"32\",\"33\",\"34\",\"35\",\"36\",\"37\",\"38\",\"39\",\"40\",\"41\",\"42\",\"43\",\"44\",\"45\",\"46\",\"47\",\"48\",\"49\",\"50\",\"51\",\"52\",\"53\",\"54\",\"55\",\"56\",\"57\",\"58\",\"59\",\"60\",\"61\",\"62\",\"63\",\"64\",\"65\",\"66\",\"67\",\"68\",\"69\",\"70\",\"71\",\"72\",\"73\",\"74\",\"75\",\"76\",\"77\",\"78\",\"79\",\"80\",\"81\",\"82\",\"83\",\"84\",\"85\",\"86\",\"87\",\"88\",\"89\",\"90\",\"91\",\"92\",\"93\",\"94\",\"95\",\"96\",\"97\",\"98\",\"99\",\"100\",\"101\",\"102\",\"103\",\"104\",\"105\",\"106\",\"107\",\"108\",\"109\",\"110\",\"111\",\"112\",\"113\",\"114\",\"115\",\"116\",\"117\",\"118\",\"119\",\"120\",\"121\",\"122\",\"123\",\"124\",\"125\",\"126\",\"127\",\"128\",\"129\",\"130\",\"131\",\"132\",\"133\",\"134\",\"135\",\"136\",\"137\",\"138\",\"139\",\"140\",\"141\",\"142\",\"143\",\"144\",\"145\",\"146\",\"147\",\"148\",\"149\",\"150\",\"151\",\"152\",\"153\",\"154\",\"155\",\"156\",\"157\",\"158\",\"159\",\"160\",\"161\",\"162\",\"163\",\"164\",\"165\",\"166\",\"167\",\"168\",\"169\",\"170\",\"171\",\"172\",\"173\",\"174\",\"175\",\"176\",\"177\",\"178\",\"179\",\"180\",\"181\",\"182\",\"183\",\"184\",\"185\",\"186\",\"187\",\"188\",\"189\",\"190\",\"191\",\"192\",\"193\",\"194\",\"195\",\"196\",\"197\",\"198\",\"199\",\"200\",\"201\",\"202\",\"203\",\"204\",\"205\"])\n",
    "\n",
    "type(VTDF)"
   ]
  },
  {
   "cell_type": "code",
   "execution_count": 7,
   "metadata": {
    "scrolled": true
   },
   "outputs": [],
   "source": [
    "#FNDF.head(1000)\n"
   ]
  },
  {
   "cell_type": "code",
   "execution_count": 8,
   "metadata": {},
   "outputs": [],
   "source": [
    "Y=FNDF['205'].values \n",
    "YVal=VTDF['205'].values "
   ]
  },
  {
   "cell_type": "code",
   "execution_count": 9,
   "metadata": {},
   "outputs": [],
   "source": [
    "X = FNDF.drop(['205'],axis=1).values\n",
    "XVal = VTDF.drop(['205'],axis=1).values"
   ]
  },
  {
   "cell_type": "code",
   "execution_count": 10,
   "metadata": {},
   "outputs": [],
   "source": [
    "#FNDF.describe()"
   ]
  },
  {
   "cell_type": "code",
   "execution_count": 11,
   "metadata": {},
   "outputs": [
    {
     "data": {
      "text/plain": [
       "20"
      ]
     },
     "execution_count": 11,
     "metadata": {},
     "output_type": "execute_result"
    }
   ],
   "source": [
    "len(XVal)"
   ]
  },
  {
   "cell_type": "code",
   "execution_count": 12,
   "metadata": {
    "scrolled": true
   },
   "outputs": [],
   "source": [
    "X_train, X_test, y_train, y_test = train_test_split(X,Y, test_size=0.15, random_state=1)"
   ]
  },
  {
   "cell_type": "code",
   "execution_count": 13,
   "metadata": {},
   "outputs": [
    {
     "data": {
      "text/plain": [
       "array([[0.05394111, 0.33      , 0.        , ..., 0.        , 0.        ,\n",
       "        0.        ],\n",
       "       [0.22803763, 1.68      , 0.        , ..., 0.        , 0.        ,\n",
       "        0.        ],\n",
       "       [0.6615208 , 4.35      , 0.        , ..., 0.        , 0.        ,\n",
       "        0.        ],\n",
       "       ...,\n",
       "       [0.22635984, 1.56      , 0.        , ..., 0.        , 0.        ,\n",
       "        0.        ],\n",
       "       [0.2563252 , 1.83      , 0.        , ..., 0.        , 0.        ,\n",
       "        0.        ],\n",
       "       [0.1523616 , 1.09      , 0.        , ..., 0.        , 0.        ,\n",
       "        0.        ]])"
      ]
     },
     "execution_count": 13,
     "metadata": {},
     "output_type": "execute_result"
    }
   ],
   "source": [
    "X_train"
   ]
  },
  {
   "cell_type": "code",
   "execution_count": 14,
   "metadata": {},
   "outputs": [],
   "source": [
    "#XVal\n"
   ]
  },
  {
   "cell_type": "code",
   "execution_count": 15,
   "metadata": {},
   "outputs": [
    {
     "data": {
      "text/plain": [
       "(16449,)"
      ]
     },
     "execution_count": 15,
     "metadata": {},
     "output_type": "execute_result"
    }
   ],
   "source": [
    "le = LabelEncoder()\n",
    "y_train = le.fit_transform(y_train)\n",
    "y_test = le.transform(y_test)\n",
    "YVal= le.transform(YVal)\n",
    "ss = StandardScaler()\n",
    "X_train = ss.fit_transform(X_train)\n",
    "X_test = ss.transform(X_test)\n",
    "XVal = ss.transform(XVal)\n",
    "\n",
    "\n",
    "\n",
    "y_train.shape\n"
   ]
  },
  {
   "cell_type": "code",
   "execution_count": 16,
   "metadata": {},
   "outputs": [],
   "source": [
    "#XVal.mean()\n"
   ]
  },
  {
   "cell_type": "code",
   "execution_count": 17,
   "metadata": {
    "scrolled": true
   },
   "outputs": [
    {
     "data": {
      "text/plain": [
       "0.6860458548887008"
      ]
     },
     "execution_count": 17,
     "metadata": {},
     "output_type": "execute_result"
    }
   ],
   "source": [
    "XVal.std()"
   ]
  },
  {
   "cell_type": "code",
   "execution_count": 18,
   "metadata": {
    "scrolled": true
   },
   "outputs": [
    {
     "data": {
      "text/plain": [
       "1.0423801831862345"
      ]
     },
     "execution_count": 18,
     "metadata": {},
     "output_type": "execute_result"
    }
   ],
   "source": [
    "X_test.std()"
   ]
  },
  {
   "cell_type": "code",
   "execution_count": 19,
   "metadata": {},
   "outputs": [],
   "source": [
    "from keras.layers import LeakyReLU\n",
    "from keras import optimizers"
   ]
  },
  {
   "cell_type": "code",
   "execution_count": 20,
   "metadata": {},
   "outputs": [],
   "source": [
    "#sgd = optimizers.SGD(momentum=0.9, nesterov=True, decay=1e-6, lr=0.01\n",
    "adamax=optimizers.Adamax()"
   ]
  },
  {
   "cell_type": "code",
   "execution_count": 21,
   "metadata": {},
   "outputs": [],
   "source": [
    "from keras.regularizers import l1_l2\n",
    "from keras.regularizers import l2\n",
    "from keras.layers import Dropout"
   ]
  },
  {
   "cell_type": "code",
   "execution_count": 22,
   "metadata": {},
   "outputs": [],
   "source": [
    "model = Sequential()\n",
    "#model.add(Dense(100, input_dim=X_train.shape[1]))\n",
    "model.add(Dense(100, input_dim=X_train.shape[1], kernel_regularizer=l1_l2(l1=0.007, l2=0.005)))\n",
    "model.add(LeakyReLU(alpha=0.001))\n",
    "#model.add(Dropout(0.3)) \n",
    "model.add(Dense(60,  activation=\"relu\",kernel_regularizer=l1_l2(l1=0.001, l2=0.001))) \n",
    "model.add(LeakyReLU(alpha=0.001))\n",
    "model.add(Dense(60,  activation=\"tanh\",kernel_regularizer=l1_l2(l1=0.001, l2=0.001))) \n",
    "model.add(LeakyReLU(alpha=0.001))\n",
    "model.add(Dropout(0.3)) \n",
    "model.add(Dense(30,  activation=\"relu\",kernel_regularizer=l1_l2(l1=0.001, l2=0.001))) \n",
    "model.add(LeakyReLU(alpha=0.001)) \n",
    "#model.add(Dropout(0.3)) \n",
    "model.add(Dense(15,  activation=\"relu\",kernel_regularizer=l1_l2(l1=0.001, l2=0.001))) \n",
    "model.add(LeakyReLU(alpha=0.001)) \n",
    "#model.add(Dropout(0.3)) \n",
    "model.add(Dense(7,  activation=\"relu\",kernel_regularizer=l1_l2(l1=0.001, l2=0.001))) \n",
    "model.add(LeakyReLU(alpha=0.001)) \n",
    "#model.add(Dense(3, activation=\"softmax\"))\n",
    "#model.compile(optimizer='adamax', loss='categorical_crossentropy', metrics=['accuracy'])\n",
    "model.add(Dense(1, activation=\"sigmoid\"))\n",
    "model.compile(optimizer='adam', loss='binary_crossentropy', metrics=['accuracy'])\n",
    "\n",
    "#model.compile(optimizer='sgd', loss='mean_squared_error', metrics=['accuracy'])"
   ]
  },
  {
   "cell_type": "code",
   "execution_count": null,
   "metadata": {},
   "outputs": [],
   "source": []
  },
  {
   "cell_type": "code",
   "execution_count": 23,
   "metadata": {
    "scrolled": true
   },
   "outputs": [
    {
     "name": "stdout",
     "output_type": "stream",
     "text": [
      "Model: \"sequential_1\"\n",
      "_________________________________________________________________\n",
      "Layer (type)                 Output Shape              Param #   \n",
      "=================================================================\n",
      "dense_1 (Dense)              (None, 100)               20500     \n",
      "_________________________________________________________________\n",
      "leaky_re_lu_1 (LeakyReLU)    (None, 100)               0         \n",
      "_________________________________________________________________\n",
      "dense_2 (Dense)              (None, 60)                6060      \n",
      "_________________________________________________________________\n",
      "leaky_re_lu_2 (LeakyReLU)    (None, 60)                0         \n",
      "_________________________________________________________________\n",
      "dense_3 (Dense)              (None, 60)                3660      \n",
      "_________________________________________________________________\n",
      "leaky_re_lu_3 (LeakyReLU)    (None, 60)                0         \n",
      "_________________________________________________________________\n",
      "dropout_1 (Dropout)          (None, 60)                0         \n",
      "_________________________________________________________________\n",
      "dense_4 (Dense)              (None, 30)                1830      \n",
      "_________________________________________________________________\n",
      "leaky_re_lu_4 (LeakyReLU)    (None, 30)                0         \n",
      "_________________________________________________________________\n",
      "dense_5 (Dense)              (None, 15)                465       \n",
      "_________________________________________________________________\n",
      "leaky_re_lu_5 (LeakyReLU)    (None, 15)                0         \n",
      "_________________________________________________________________\n",
      "dense_6 (Dense)              (None, 7)                 112       \n",
      "_________________________________________________________________\n",
      "leaky_re_lu_6 (LeakyReLU)    (None, 7)                 0         \n",
      "_________________________________________________________________\n",
      "dense_7 (Dense)              (None, 1)                 8         \n",
      "=================================================================\n",
      "Total params: 32,635\n",
      "Trainable params: 32,635\n",
      "Non-trainable params: 0\n",
      "_________________________________________________________________\n"
     ]
    }
   ],
   "source": [
    "model.summary()"
   ]
  },
  {
   "cell_type": "code",
   "execution_count": 24,
   "metadata": {
    "scrolled": false
   },
   "outputs": [
    {
     "name": "stdout",
     "output_type": "stream",
     "text": [
      "Epoch 1/100\n",
      "16449/16449 [==============================] - 1s 69us/step - loss: 10.6183 - accuracy: 0.5560\n",
      "Epoch 2/100\n",
      "16449/16449 [==============================] - 0s 14us/step - loss: 6.3276 - accuracy: 0.7560\n",
      "Epoch 3/100\n",
      "16449/16449 [==============================] - 0s 23us/step - loss: 3.3390 - accuracy: 0.8348\n",
      "Epoch 4/100\n",
      "16449/16449 [==============================] - 0s 21us/step - loss: 1.6329 - accuracy: 0.8539\n",
      "Epoch 5/100\n",
      "16449/16449 [==============================] - 0s 18us/step - loss: 0.9848 - accuracy: 0.8620\n",
      "Epoch 6/100\n",
      "16449/16449 [==============================] - 0s 14us/step - loss: 0.7960 - accuracy: 0.8679\n",
      "Epoch 7/100\n",
      "16449/16449 [==============================] - 1s 32us/step - loss: 0.6937 - accuracy: 0.8735 0s - loss: 0.7307 - ac\n",
      "Epoch 8/100\n",
      "16449/16449 [==============================] - 0s 18us/step - loss: 0.6244 - accuracy: 0.8757\n",
      "Epoch 9/100\n",
      "16449/16449 [==============================] - 0s 15us/step - loss: 0.5817 - accuracy: 0.8779\n",
      "Epoch 10/100\n",
      "16449/16449 [==============================] - 0s 14us/step - loss: 0.5511 - accuracy: 0.8796\n",
      "Epoch 11/100\n",
      "16449/16449 [==============================] - ETA: 0s - loss: 0.5328 - accuracy: 0.88 - 0s 14us/step - loss: 0.5335 - accuracy: 0.8808\n",
      "Epoch 12/100\n",
      "16449/16449 [==============================] - 0s 13us/step - loss: 0.5115 - accuracy: 0.8849\n",
      "Epoch 13/100\n",
      "16449/16449 [==============================] - 0s 12us/step - loss: 0.4972 - accuracy: 0.8844\n",
      "Epoch 14/100\n",
      "16449/16449 [==============================] - 0s 27us/step - loss: 0.4887 - accuracy: 0.8855\n",
      "Epoch 15/100\n",
      "16449/16449 [==============================] - 0s 19us/step - loss: 0.4795 - accuracy: 0.8867\n",
      "Epoch 16/100\n",
      "16449/16449 [==============================] - 0s 15us/step - loss: 0.4763 - accuracy: 0.8891\n",
      "Epoch 17/100\n",
      "16449/16449 [==============================] - 0s 15us/step - loss: 0.4678 - accuracy: 0.8875\n",
      "Epoch 18/100\n",
      "16449/16449 [==============================] - 0s 15us/step - loss: 0.4615 - accuracy: 0.8882\n",
      "Epoch 19/100\n",
      "16449/16449 [==============================] - 0s 17us/step - loss: 0.4627 - accuracy: 0.8898\n",
      "Epoch 20/100\n",
      "16449/16449 [==============================] - 0s 29us/step - loss: 0.4572 - accuracy: 0.8886 0s - loss: 0.4639 - accu\n",
      "Epoch 21/100\n",
      "16449/16449 [==============================] - 0s 22us/step - loss: 0.4513 - accuracy: 0.8920\n",
      "Epoch 22/100\n",
      "16449/16449 [==============================] - 0s 14us/step - loss: 0.4490 - accuracy: 0.8915\n",
      "Epoch 23/100\n",
      "16449/16449 [==============================] - 0s 23us/step - loss: 0.4481 - accuracy: 0.8906 0s - loss: 0.4446 - accuracy\n",
      "Epoch 24/100\n",
      "16449/16449 [==============================] - 0s 26us/step - loss: 0.4438 - accuracy: 0.8923\n",
      "Epoch 25/100\n",
      "16449/16449 [==============================] - 0s 17us/step - loss: 0.4390 - accuracy: 0.8939\n",
      "Epoch 26/100\n",
      "16449/16449 [==============================] - 0s 14us/step - loss: 0.4410 - accuracy: 0.8934\n",
      "Epoch 27/100\n",
      "16449/16449 [==============================] - 0s 15us/step - loss: 0.4297 - accuracy: 0.8954\n",
      "Epoch 28/100\n",
      "16449/16449 [==============================] - 0s 15us/step - loss: 0.4350 - accuracy: 0.8918\n",
      "Epoch 29/100\n",
      "16449/16449 [==============================] - 0s 15us/step - loss: 0.4274 - accuracy: 0.8934\n",
      "Epoch 30/100\n",
      "16449/16449 [==============================] - 1s 34us/step - loss: 0.4261 - accuracy: 0.8945\n",
      "Epoch 31/100\n",
      "16449/16449 [==============================] - 0s 21us/step - loss: 0.4259 - accuracy: 0.8956\n",
      "Epoch 32/100\n",
      "16449/16449 [==============================] - 0s 26us/step - loss: 0.4201 - accuracy: 0.8974\n",
      "Epoch 33/100\n",
      "16449/16449 [==============================] - 0s 21us/step - loss: 0.4223 - accuracy: 0.8971\n",
      "Epoch 34/100\n",
      "16449/16449 [==============================] - 0s 17us/step - loss: 0.4168 - accuracy: 0.8968\n",
      "Epoch 35/100\n",
      "16449/16449 [==============================] - 0s 13us/step - loss: 0.4156 - accuracy: 0.8967\n",
      "Epoch 36/100\n",
      "16449/16449 [==============================] - 0s 24us/step - loss: 0.4115 - accuracy: 0.8973\n",
      "Epoch 37/100\n",
      "16449/16449 [==============================] - 0s 23us/step - loss: 0.4154 - accuracy: 0.8961\n",
      "Epoch 38/100\n",
      "16449/16449 [==============================] - 0s 15us/step - loss: 0.4184 - accuracy: 0.8967\n",
      "Epoch 39/100\n",
      "16449/16449 [==============================] - 0s 24us/step - loss: 0.4205 - accuracy: 0.8936\n",
      "Epoch 40/100\n",
      "16449/16449 [==============================] - 0s 24us/step - loss: 0.4081 - accuracy: 0.8982\n",
      "Epoch 41/100\n",
      "16449/16449 [==============================] - 0s 15us/step - loss: 0.4114 - accuracy: 0.8962\n",
      "Epoch 42/100\n",
      "16449/16449 [==============================] - 0s 15us/step - loss: 0.4089 - accuracy: 0.8973\n",
      "Epoch 43/100\n",
      "16449/16449 [==============================] - 0s 13us/step - loss: 0.4059 - accuracy: 0.8973\n",
      "Epoch 44/100\n",
      "16449/16449 [==============================] - 0s 15us/step - loss: 0.4076 - accuracy: 0.8976\n",
      "Epoch 45/100\n",
      "16449/16449 [==============================] - 0s 13us/step - loss: 0.4054 - accuracy: 0.9001\n",
      "Epoch 46/100\n",
      "16449/16449 [==============================] - 0s 13us/step - loss: 0.4093 - accuracy: 0.8941\n",
      "Epoch 47/100\n",
      "16449/16449 [==============================] - 0s 15us/step - loss: 0.4092 - accuracy: 0.8965\n",
      "Epoch 48/100\n",
      "16449/16449 [==============================] - 0s 13us/step - loss: 0.3989 - accuracy: 0.8994\n",
      "Epoch 49/100\n",
      "16449/16449 [==============================] - 0s 15us/step - loss: 0.4068 - accuracy: 0.8955\n",
      "Epoch 50/100\n",
      "16449/16449 [==============================] - 0s 13us/step - loss: 0.4000 - accuracy: 0.8989\n",
      "Epoch 51/100\n",
      "16449/16449 [==============================] - 0s 12us/step - loss: 0.4041 - accuracy: 0.8962\n",
      "Epoch 52/100\n",
      "16449/16449 [==============================] - 0s 15us/step - loss: 0.4009 - accuracy: 0.8988\n",
      "Epoch 53/100\n",
      "16449/16449 [==============================] - 0s 13us/step - loss: 0.3980 - accuracy: 0.8971\n",
      "Epoch 54/100\n",
      "16449/16449 [==============================] - 0s 12us/step - loss: 0.3941 - accuracy: 0.8998\n",
      "Epoch 55/100\n",
      "16449/16449 [==============================] - 0s 12us/step - loss: 0.3947 - accuracy: 0.8990\n",
      "Epoch 56/100\n",
      "16449/16449 [==============================] - 0s 12us/step - loss: 0.4041 - accuracy: 0.8962\n",
      "Epoch 57/100\n",
      "16449/16449 [==============================] - 0s 13us/step - loss: 0.3951 - accuracy: 0.8993\n",
      "Epoch 58/100\n",
      "16449/16449 [==============================] - 0s 13us/step - loss: 0.3963 - accuracy: 0.8969\n",
      "Epoch 59/100\n",
      "16449/16449 [==============================] - 0s 13us/step - loss: 0.3939 - accuracy: 0.9004\n",
      "Epoch 60/100\n",
      "16449/16449 [==============================] - 0s 13us/step - loss: 0.3906 - accuracy: 0.9009\n",
      "Epoch 61/100\n",
      "16449/16449 [==============================] - 0s 12us/step - loss: 0.3872 - accuracy: 0.9011\n",
      "Epoch 62/100\n",
      "16449/16449 [==============================] - 0s 12us/step - loss: 0.3881 - accuracy: 0.9010\n",
      "Epoch 63/100\n",
      "16449/16449 [==============================] - 0s 12us/step - loss: 0.3880 - accuracy: 0.9008\n",
      "Epoch 64/100\n",
      "16449/16449 [==============================] - 0s 14us/step - loss: 0.3967 - accuracy: 0.8958\n",
      "Epoch 65/100\n",
      "16449/16449 [==============================] - 0s 13us/step - loss: 0.3887 - accuracy: 0.9004\n",
      "Epoch 66/100\n",
      "16449/16449 [==============================] - 0s 13us/step - loss: 0.3883 - accuracy: 0.9007\n",
      "Epoch 67/100\n",
      "16449/16449 [==============================] - 0s 12us/step - loss: 0.3883 - accuracy: 0.9004\n",
      "Epoch 68/100\n",
      "16449/16449 [==============================] - 0s 12us/step - loss: 0.3845 - accuracy: 0.9010\n",
      "Epoch 69/100\n",
      "16449/16449 [==============================] - 0s 13us/step - loss: 0.3923 - accuracy: 0.8982\n",
      "Epoch 70/100\n",
      "16449/16449 [==============================] - 0s 12us/step - loss: 0.3855 - accuracy: 0.9004\n",
      "Epoch 71/100\n",
      "16449/16449 [==============================] - 0s 12us/step - loss: 0.3855 - accuracy: 0.9010\n",
      "Epoch 72/100\n",
      "16449/16449 [==============================] - 0s 13us/step - loss: 0.3840 - accuracy: 0.9015\n",
      "Epoch 73/100\n",
      "16449/16449 [==============================] - 0s 13us/step - loss: 0.3822 - accuracy: 0.9042\n",
      "Epoch 74/100\n",
      "16449/16449 [==============================] - 0s 12us/step - loss: 0.3835 - accuracy: 0.8995\n",
      "Epoch 75/100\n",
      "16449/16449 [==============================] - 0s 12us/step - loss: 0.3808 - accuracy: 0.9018\n",
      "Epoch 76/100\n"
     ]
    },
    {
     "name": "stdout",
     "output_type": "stream",
     "text": [
      "16449/16449 [==============================] - 0s 13us/step - loss: 0.3804 - accuracy: 0.9025\n",
      "Epoch 77/100\n",
      "16449/16449 [==============================] - 0s 13us/step - loss: 0.3826 - accuracy: 0.9038\n",
      "Epoch 78/100\n",
      "16449/16449 [==============================] - 0s 12us/step - loss: 0.3859 - accuracy: 0.8990\n",
      "Epoch 79/100\n",
      "16449/16449 [==============================] - 0s 12us/step - loss: 0.3846 - accuracy: 0.9027\n",
      "Epoch 80/100\n",
      "16449/16449 [==============================] - 0s 15us/step - loss: 0.3826 - accuracy: 0.9002\n",
      "Epoch 81/100\n",
      "16449/16449 [==============================] - 0s 16us/step - loss: 0.3815 - accuracy: 0.9029\n",
      "Epoch 82/100\n",
      "16449/16449 [==============================] - 0s 28us/step - loss: 0.3782 - accuracy: 0.9032\n",
      "Epoch 83/100\n",
      "16449/16449 [==============================] - 0s 20us/step - loss: 0.3775 - accuracy: 0.9026\n",
      "Epoch 84/100\n",
      "16449/16449 [==============================] - 0s 15us/step - loss: 0.3810 - accuracy: 0.9022\n",
      "Epoch 85/100\n",
      "16449/16449 [==============================] - 0s 23us/step - loss: 0.3835 - accuracy: 0.8984\n",
      "Epoch 86/100\n",
      "16449/16449 [==============================] - 0s 20us/step - loss: 0.3831 - accuracy: 0.9020\n",
      "Epoch 87/100\n",
      "16449/16449 [==============================] - 0s 19us/step - loss: 0.3823 - accuracy: 0.9015\n",
      "Epoch 88/100\n",
      "16449/16449 [==============================] - 0s 16us/step - loss: 0.3782 - accuracy: 0.9045\n",
      "Epoch 89/100\n",
      "16449/16449 [==============================] - 0s 30us/step - loss: 0.3785 - accuracy: 0.9036\n",
      "Epoch 90/100\n",
      "16449/16449 [==============================] - 1s 32us/step - loss: 0.3776 - accuracy: 0.9022\n",
      "Epoch 91/100\n",
      "16449/16449 [==============================] - 1s 60us/step - loss: 0.3732 - accuracy: 0.9044\n",
      "Epoch 92/100\n",
      "16449/16449 [==============================] - 1s 31us/step - loss: 0.3831 - accuracy: 0.9006\n",
      "Epoch 93/100\n",
      "16449/16449 [==============================] - 0s 25us/step - loss: 0.3748 - accuracy: 0.9028\n",
      "Epoch 94/100\n",
      "16449/16449 [==============================] - 0s 29us/step - loss: 0.3715 - accuracy: 0.9069\n",
      "Epoch 95/100\n",
      "16449/16449 [==============================] - 1s 45us/step - loss: 0.3777 - accuracy: 0.9021\n",
      "Epoch 96/100\n",
      "16449/16449 [==============================] - 1s 41us/step - loss: 0.3749 - accuracy: 0.9032\n",
      "Epoch 97/100\n",
      "16449/16449 [==============================] - 0s 26us/step - loss: 0.3725 - accuracy: 0.9028 0s - loss: 0.3672 - accuracy\n",
      "Epoch 98/100\n",
      "16449/16449 [==============================] - 0s 20us/step - loss: 0.3690 - accuracy: 0.9073\n",
      "Epoch 99/100\n",
      "16449/16449 [==============================] - 0s 23us/step - loss: 0.3716 - accuracy: 0.9039\n",
      "Epoch 100/100\n",
      "16449/16449 [==============================] - 1s 35us/step - loss: 0.3710 - accuracy: 0.9047\n"
     ]
    }
   ],
   "source": [
    "from keras.callbacks import History\n",
    "history= History()\n",
    "from time import time\n",
    "start_at = time ()\n",
    "model.fit(X_train, y_train, epochs=100, batch_size=512, callbacks=[history])\n",
    "exec_time = time()-start_at"
   ]
  },
  {
   "cell_type": "code",
   "execution_count": 25,
   "metadata": {},
   "outputs": [
    {
     "name": "stdout",
     "output_type": "stream",
     "text": [
      "Tempo di addestramento: 0 minuti e 34 secondi\n",
      "2903/2903 [==============================] - 0s 120us/step\n"
     ]
    },
    {
     "data": {
      "text/plain": [
       "[0.3819576148489119, 0.8990699052810669]"
      ]
     },
     "execution_count": 25,
     "metadata": {},
     "output_type": "execute_result"
    },
    {
     "data": {
      "image/png": "[encoded data removed]",
      "text/plain": [
       "<Figure size 1008x720 with 1 Axes>"
      ]
     },
     "metadata": {
      "needs_background": "light"
     },
     "output_type": "display_data"
    }
   ],
   "source": [
    "print(\"Tempo di addestramento: %d minuti e %d secondi\" % (exec_time/60, exec_time%60))\n",
    "plt.figure(figsize=(14,10))\n",
    "plt.plot(history.history['loss'])\n",
    "model.evaluate (X_test,y_test)"
   ]
  },
  {
   "cell_type": "code",
   "execution_count": 26,
   "metadata": {},
   "outputs": [],
   "source": [
    "from sklearn.metrics import confusion_matrix"
   ]
  },
  {
   "cell_type": "code",
   "execution_count": 27,
   "metadata": {},
   "outputs": [],
   "source": [
    "y_pred_test = model.predict_classes(X_test)\n",
    "cm= confusion_matrix(y_test, y_pred_test)\n"
   ]
  },
  {
   "cell_type": "code",
   "execution_count": 28,
   "metadata": {},
   "outputs": [
    {
     "data": {
      "text/plain": [
       "array([[1334,  131],\n",
       "       [ 162, 1276]], dtype=int64)"
      ]
     },
     "execution_count": 28,
     "metadata": {},
     "output_type": "execute_result"
    }
   ],
   "source": [
    "cm"
   ]
  },
  {
   "cell_type": "code",
   "execution_count": 29,
   "metadata": {
    "scrolled": true
   },
   "outputs": [
    {
     "data": {
      "image/png": "[encoded data removed]",
      "text/plain": [
       "<Figure size 432x288 with 2 Axes>"
      ]
     },
     "metadata": {
      "needs_background": "light"
     },
     "output_type": "display_data"
    }
   ],
   "source": [
    "import numpy as np\n",
    "import matplotlib.pyplot as plt\n",
    "import itertools\n",
    "\n",
    "def showBounds(X,Y,model, labels=[\"classe negativa\", \"classe positiva\"]):\n",
    "    \n",
    "    h = .02 \n",
    "\n",
    "    x_min, x_max = X[:, 0].min(), X[:, 0].max()\n",
    "    y_min, y_max = X[:, 1].min(), X[:, 1].max()\n",
    "\n",
    "    xx, yy = np.meshgrid(np.arange(x_min, x_max, h),\n",
    "                         np.arange(y_min, y_max, h))\n",
    "\n",
    "    Z = model.predict_classes(np.c_[xx.ravel(), yy.ravel()])\n",
    "\n",
    "    Z = Z.reshape(xx.shape)\n",
    "    plt.contourf(xx, yy, Z, cmap=plt.cm.Paired)\n",
    "\n",
    "    X_m = X[Y==1]\n",
    "    X_b = X[Y==0]\n",
    "    plt.scatter(X_b[:, 0], X_b[:, 1], c=\"green\",  edgecolor='white', label=labels[0])\n",
    "    plt.scatter(X_m[:, 0], X_m[:, 1], c=\"red\",  edgecolor='white', label=labels[1])\n",
    "\n",
    "\n",
    "def plot_confusion_matrix(cm, classes,\n",
    "                          normalize=False,\n",
    "                          title='Confusion matrix',\n",
    "                          cmap=plt.cm.Blues):\n",
    "    \n",
    "    if normalize:\n",
    "        cm = cm.astype('float') / cm.sum(axis=1)[:, np.newaxis]\n",
    "\n",
    "    plt.imshow(cm, interpolation='nearest', cmap=cmap)\n",
    "    plt.title(title)\n",
    "    plt.colorbar()\n",
    "    tick_marks = np.arange(len(classes))\n",
    "    plt.xticks(tick_marks, classes, rotation=45)\n",
    "    plt.yticks(tick_marks, classes)\n",
    "\n",
    "    fmt = '.2f' if normalize else 'd'\n",
    "    thresh = cm.max() / 2.\n",
    "    for i, j in itertools.product(range(cm.shape[0]), range(cm.shape[1])):\n",
    "        plt.text(j, i, format(cm[i, j], fmt),\n",
    "                 horizontalalignment=\"center\",\n",
    "                 color=\"white\" if cm[i, j] > thresh else \"black\")\n",
    "\n",
    "    plt.ylabel('True label')\n",
    "    plt.xlabel('Predicted label')\n",
    "    plt.tight_layout()\n",
    "\n",
    "\n",
    "\n",
    "\n",
    "\n",
    "plot_confusion_matrix(cm,['Good','Fake'])\n",
    "\n",
    "\n"
   ]
  },
  {
   "cell_type": "code",
   "execution_count": 30,
   "metadata": {
    "scrolled": true
   },
   "outputs": [
    {
     "name": "stdout",
     "output_type": "stream",
     "text": [
      "2903/2903 [==============================] - 0s 41us/step\n"
     ]
    },
    {
     "data": {
      "text/plain": [
       "[0.3819576148489119, 0.8990699052810669]"
      ]
     },
     "execution_count": 30,
     "metadata": {},
     "output_type": "execute_result"
    }
   ],
   "source": [
    "model.evaluate (X_test,y_test)"
   ]
  },
  {
   "cell_type": "code",
   "execution_count": 31,
   "metadata": {
    "scrolled": true
   },
   "outputs": [
    {
     "name": "stdout",
     "output_type": "stream",
     "text": [
      "1)Etichettato come 1 classificato come 1 prob 0\n",
      "2)Etichettato come 1 classificato come 1 prob 0\n",
      "3)Etichettato come 1 classificato come 1 prob 0\n",
      "4)Etichettato come 1 classificato come 1 prob 0\n",
      "5)Etichettato come 1 classificato come 1 prob 0\n",
      "6)Etichettato come 1 classificato come 1 prob 0\n",
      "7)Etichettato come 1 classificato come 1 prob 0\n",
      "8)Etichettato come 1 classificato come 1 prob 0\n",
      "9)Etichettato come 1 classificato come 1 prob 0\n",
      "10)Etichettato come 1 classificato come 1 prob 0\n",
      "11)Etichettato come 0 classificato come 1 prob 0\n",
      "12)Etichettato come 0 classificato come 1 prob 0\n",
      "13)Etichettato come 0 classificato come 1 prob 0\n",
      "14)Etichettato come 0 classificato come 1 prob 0\n",
      "15)Etichettato come 0 classificato come 1 prob 0\n",
      "16)Etichettato come 0 classificato come 1 prob 0\n",
      "17)Etichettato come 0 classificato come 1 prob 0\n",
      "18)Etichettato come 0 classificato come 1 prob 0\n",
      "19)Etichettato come 0 classificato come 0 prob 0\n",
      "20)Etichettato come 0 classificato come 1 prob 0\n"
     ]
    }
   ],
   "source": [
    "y_pred_Val = model.predict_classes(XVal)\n",
    "YVal_prob= model.predict_proba(XVal)\n",
    "for i in range(0,len(XVal)):\n",
    "   # if(y_test[i]!=y_pred[i]):\n",
    "        print(\"%d)Etichettato come %d classificato come %d prob %d\" %  (i+1,YVal[i], y_pred_Val[i], YVal_prob[i]))"
   ]
  },
  {
   "cell_type": "code",
   "execution_count": null,
   "metadata": {},
   "outputs": [],
   "source": []
  },
  {
   "cell_type": "code",
   "execution_count": null,
   "metadata": {
    "scrolled": true
   },
   "outputs": [],
   "source": []
  },
  {
   "cell_type": "code",
   "execution_count": 32,
   "metadata": {},
   "outputs": [
    {
     "name": "stdout",
     "output_type": "stream",
     "text": [
      "\r",
      "20/20 [==============================] - 0s 50us/step\n"
     ]
    },
    {
     "data": {
      "text/plain": [
       "[1.7312065362930298, 0.550000011920929]"
      ]
     },
     "execution_count": 32,
     "metadata": {},
     "output_type": "execute_result"
    }
   ],
   "source": [
    "model.evaluate (XVal,YVal)"
   ]
  },
  {
   "cell_type": "code",
   "execution_count": null,
   "metadata": {},
   "outputs": [],
   "source": []
  }
 ],
 "metadata": {
  "celltoolbar": "Slideshow",
  "kernelspec": {
   "display_name": "Python 3",
   "language": "python",
   "name": "python3"
  },
  "language_info": {
   "codemirror_mode": {
    "name": "ipython",
    "version": 3
   },
   "file_extension": ".py",
   "mimetype": "text/x-python",
   "name": "python",
   "nbconvert_exporter": "python",
   "pygments_lexer": "ipython3",
   "version": "3.7.9"
  }
 },
 "nbformat": 4,
 "nbformat_minor": 4
}
